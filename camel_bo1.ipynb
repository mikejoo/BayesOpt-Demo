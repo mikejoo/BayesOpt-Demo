{
 "cells": [
  {
   "cell_type": "code",
   "execution_count": 1,
   "metadata": {},
   "outputs": [],
   "source": [
    "import math\n",
    "import numpy as np\n",
    "import torch\n",
    "import gpytorch as gp\n",
    "import botorch as bo\n",
    "from botorch.models.gpytorch import GPyTorchModel\n",
    "import matplotlib.pyplot as plt\n",
    "from scipy.stats import norm, ttest_ind, ttest_rel"
   ]
  },
  {
   "cell_type": "code",
   "execution_count": 2,
   "metadata": {},
   "outputs": [],
   "source": [
    "class prior(gp.models.ExactGP, GPyTorchModel):\n",
    "    def __init__(self, train_inputs, train_targets, likelihood, kernel):\n",
    "        super().__init__(train_inputs, train_targets, likelihood)\n",
    "        self.mean_module = gp.means.ConstantMean()\n",
    "        self.covar_module = kernel\n",
    "    \n",
    "    def forward(self, x):\n",
    "        mean = self.mean_module(x)\n",
    "        covar = self.covar_module(x)\n",
    "        return gp.distributions.MultivariateNormal(mean, covar)\n",
    "        \n",
    "\n",
    "def camel(x1, x2):\n",
    "    ans = (4 - 2.1*x1**2 + x1**4/3)*x1**2\n",
    "    ans += x1*x2\n",
    "    ans += (-4 + 4*x2**2)*x2**2\n",
    "    return ans\n",
    "\n",
    "def a_ei(fmin, mean, std):\n",
    "    ans = (fmin - mean) * norm.cdf((fmin - mean)/std)\n",
    "    ans += std * norm.pdf((fmin - mean)/std)\n",
    "    return ans\n",
    "\n",
    "def gap(best_found, best_init, best):\n",
    "    ans = (best_found - best_init)/(best - best_init)\n",
    "    return ans"
   ]
  },
  {
   "cell_type": "code",
   "execution_count": 3,
   "metadata": {},
   "outputs": [],
   "source": [
    "num = 1000\n",
    "domain1 = torch.linspace(-3, 3, num)\n",
    "domain2 = torch.linspace(-2, 2, num)\n",
    "x1, x2 = torch.meshgrid(domain1, domain2, indexing=\"ij\")\n",
    "domain = torch.stack([x1.reshape(num*num, 1), x2.reshape(num*num, 1)], -1).squeeze(1)\n",
    "f = torch.log(camel(domain[:, 0], domain[:, 1]) + 1.2)\n",
    "\n",
    "num_runs = 20\n",
    "gaps = torch.zeros((num_runs, 30))\n",
    "gaps_rand = torch.zeros((num_runs, 150))\n",
    "\n",
    "for run in range(num_runs):\n",
    "    D_idx = np.random.choice(num*num, 5, False)\n",
    "    D_X = domain[D_idx]\n",
    "    D_y = f[D_idx]\n",
    "    D_fmin = torch.min(D_y)\n",
    "    fmin_init = torch.min(D_y)\n",
    "    best = math.log(-1.0316+1.2)\n",
    "\n",
    "    D_X_rand = D_X.clone()\n",
    "    D_y_rand = D_y.clone()\n",
    "    D_fmin_rand = torch.min(D_y_rand)\n",
    "\n",
    "    budget = 30\n",
    "    for t in range(budget):\n",
    "        # Initialize model\n",
    "        likelihood = gp.likelihoods.FixedNoiseGaussianLikelihood(noise=torch.ones(D_X.shape[0])*(0.01**2))\n",
    "        k = gp.kernels.ScaleKernel(gp.kernels.RBFKernel())\n",
    "        k.outputscale = 2.2065\n",
    "        k.base_kernel.lengthscale = 0.9387\n",
    "        model = prior(D_X, D_y, likelihood, k)\n",
    "        model.mean_module.constant = torch.nn.parameter.Parameter(torch.tensor(3.4147))\n",
    "\n",
    "        # Measure EI\n",
    "        model.eval()\n",
    "        likelihood.eval()\n",
    "        with torch.no_grad(), gp.settings.fast_pred_var():\n",
    "            f_preds = likelihood(model(domain), noise=torch.ones(domain.shape[0]) * (0.01**2))\n",
    "        f_means = f_preds.mean.detach().numpy()\n",
    "        f_stds = torch.sqrt(f_preds.variance).detach().numpy()\n",
    "        a_eis = a_ei(D_fmin, f_means, f_stds)\n",
    "\n",
    "        # Find Max EI and Observe\n",
    "        max_idx = torch.argmax(a_eis)\n",
    "        next_X = domain[max_idx]\n",
    "        next_y = f[max_idx]\n",
    "        D_X = torch.cat((D_X, next_X.reshape(1, -1)), dim=0)\n",
    "        D_y = torch.cat((D_y, next_y.reshape(1)))\n",
    "        D_fmin = torch.min(D_y)\n",
    "\n",
    "        # Store gap\n",
    "        gaps[run, t] = gap(D_fmin, fmin_init, best)\n",
    "\n",
    "    budget_rand = 150\n",
    "    for t_rand in range(budget_rand):\n",
    "        next_idx = np.random.choice(num*num, 1)\n",
    "        next_X = domain[next_idx]\n",
    "        next_y = f[next_idx]\n",
    "        D_X_rand = torch.cat((D_X_rand, next_X.reshape(1, -1)), dim=0)\n",
    "        D_y_rand = torch.cat((D_y_rand, next_y.reshape(1)))\n",
    "        D_fmin_rand = torch.min(D_y_rand)\n",
    "        gaps_rand[run, t_rand] = gap(D_fmin_rand, fmin_init, best)\n",
    "\n",
    "mean_gaps = torch.mean(gaps, dim=0)\n",
    "mean_gaps_rand = torch.mean(gaps_rand, dim=0)"
   ]
  },
  {
   "cell_type": "code",
   "execution_count": 4,
   "metadata": {},
   "outputs": [
    {
     "data": {
      "text/plain": [
       "[]"
      ]
     },
     "execution_count": 4,
     "metadata": {},
     "output_type": "execute_result"
    },
    {
     "data": {
      "image/png": "[encoded data removed]",
      "text/plain": [
       "<Figure size 432x288 with 1 Axes>"
      ]
     },
     "metadata": {
      "needs_background": "light"
     },
     "output_type": "display_data"
    }
   ],
   "source": [
    "plt.plot(np.arange(0, 31), torch.cat((torch.zeros(1), mean_gaps)), label='EI')\n",
    "plt.plot(np.arange(0, 31), torch.cat((torch.zeros(1), mean_gaps_rand[:30])), label='Random Search (30)')\n",
    "plt.legend()\n",
    "plt.plot()"
   ]
  },
  {
   "cell_type": "code",
   "execution_count": 5,
   "metadata": {},
   "outputs": [
    {
     "name": "stdout",
     "output_type": "stream",
     "text": [
      "Ttest_indResult(statistic=7.470580014716855, pvalue=2.37167507629908e-10)\n",
      "Ttest_indResult(statistic=4.462033827950895, pvalue=1.895781027663742e-05)\n",
      "Ttest_indResult(statistic=1.982929177070751, pvalue=0.02605888578781347)\n",
      "Ttest_indResult(statistic=0.1652872701903347, pvalue=0.43464632116812896)\n",
      "Ttest_indResult(statistic=-1.0451264653133188, pvalue=0.8498495738510154)\n"
     ]
    }
   ],
   "source": [
    "print(ttest_ind(mean_gaps, mean_gaps_rand[:30], alternative=\"greater\"))\n",
    "print(ttest_ind(mean_gaps, mean_gaps_rand[30:60], alternative=\"greater\"))\n",
    "print(ttest_ind(mean_gaps, mean_gaps_rand[60:90], alternative=\"greater\"))\n",
    "print(ttest_ind(mean_gaps, mean_gaps_rand[90:120], alternative=\"greater\"))\n",
    "print(ttest_ind(mean_gaps, mean_gaps_rand[120:150], alternative=\"greater\"))"
   ]
  }
 ],
 "metadata": {
  "interpreter": {
   "hash": "efaa229ec9633952243236223706f16c3fde9f4309b9797033a770dffaec7f56"
  },
  "kernelspec": {
   "display_name": "Python 3.9.7 64-bit ('cse544t_fl21': conda)",
   "language": "python",
   "name": "python3"
  },
  "language_info": {
   "codemirror_mode": {
    "name": "ipython",
    "version": 3
   },
   "file_extension": ".py",
   "mimetype": "text/x-python",
   "name": "python",
   "nbconvert_exporter": "python",
   "pygments_lexer": "ipython3",
   "version": "3.9.7"
  },
  "orig_nbformat": 4
 },
 "nbformat": 4,
 "nbformat_minor": 2
}
