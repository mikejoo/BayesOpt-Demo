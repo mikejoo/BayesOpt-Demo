{
 "cells": [
  {
   "cell_type": "code",
   "execution_count": 1,
   "metadata": {},
   "outputs": [],
   "source": [
    "import math\n",
    "import time\n",
    "import numpy as np\n",
    "import pandas as pd\n",
    "import torch\n",
    "import gpytorch as gp\n",
    "import botorch as bo\n",
    "from botorch.models.gpytorch import GPyTorchModel\n",
    "import matplotlib.pyplot as plt\n",
    "from scipy.stats import norm, ttest_ind, ttest_rel"
   ]
  },
  {
   "cell_type": "code",
   "execution_count": 2,
   "metadata": {},
   "outputs": [],
   "source": [
    "class prior(gp.models.ExactGP, GPyTorchModel):\n",
    "    def __init__(self, train_inputs, train_targets, likelihood, kernel):\n",
    "        super().__init__(train_inputs, train_targets, likelihood)\n",
    "        self.mean_module = gp.means.ConstantMean()\n",
    "        self.covar_module = kernel\n",
    "    \n",
    "    def forward(self, x):\n",
    "        mean = self.mean_module(x)\n",
    "        covar = self.covar_module(x)\n",
    "        return gp.distributions.MultivariateNormal(mean, covar)\n",
    "        \n",
    "\n",
    "def a_ei(fmin, mean, std):\n",
    "    ans = (fmin - mean) * norm.cdf((fmin - mean)/std)\n",
    "    ans += std * norm.pdf((fmin - mean)/std)\n",
    "    return ans\n",
    "\n",
    "def gap(best_found, best_init, best):\n",
    "    ans = (best_found - best_init)/(best - best_init)\n",
    "    return ans"
   ]
  },
  {
   "cell_type": "code",
   "execution_count": 3,
   "metadata": {},
   "outputs": [],
   "source": [
    "svm = pd.read_csv(\"svm.csv\")\n",
    "best = np.min(np.log(svm[\"value\"].values))\n",
    "\n",
    "num_runs = 20\n",
    "times = torch.zeros((4, num_runs))\n",
    "gaps_single = torch.zeros((num_runs, 32))\n",
    "gaps_batch_2 = torch.zeros((num_runs, 32))\n",
    "gaps_batch_4 = torch.zeros((num_runs, 32))\n",
    "gaps_batch_8 = torch.zeros((num_runs, 32))\n",
    "\n",
    "for run in range(num_runs):\n",
    "    D_idx = np.random.choice(range(1400), 5, replace=False)\n",
    "    svm_init = svm.iloc[D_idx]\n",
    "    svm_domain = svm.drop(index=D_idx)\n",
    "\n",
    "    domain = torch.tensor(svm_domain[[\"C\", \"alpha\", \"epsilon\"]].values)\n",
    "    f = torch.log(torch.tensor(svm_domain[\"value\"].values))\n",
    "    \n",
    "    D_X = torch.tensor(svm_init[[\"C\", \"alpha\", \"epsilon\"]].values)\n",
    "    D_y = torch.log(torch.tensor(svm_init[\"value\"].values))\n",
    "    D_fmin = torch.min(D_y)\n",
    "    fmin_init = torch.min(D_y)\n",
    "\n",
    "    for exp in range(4):\n",
    "        start = time.time()\n",
    "        # Setup\n",
    "        D_X_cur = D_X.clone()\n",
    "        D_y_cur = D_y.clone()\n",
    "        D_fmin_cur = torch.min(D_y_cur)\n",
    "        D_fmax_cur = torch.max(D_y_cur)\n",
    "        domain_cur = domain.clone()\n",
    "        f_cur = f.clone()\n",
    "\n",
    "        budget = 2**(5-exp)\n",
    "        for t in range(budget):\n",
    "            # Setup Model\n",
    "            likelihood = gp.likelihoods.FixedNoiseGaussianLikelihood(noise=torch.ones(D_X_cur.shape[0])*(0.01**2))\n",
    "            k = gp.kernels.ScaleKernel(gp.kernels.MaternKernel(nu=1.5))\n",
    "            model = prior(D_X_cur, D_y_cur, likelihood, k)\n",
    "            training_iter = (t+1)*(2**exp)*10\n",
    "            model.train()\n",
    "            optimizer = torch.optim.Adam(model.parameters(), lr=.1)\n",
    "            mll = gp.mlls.ExactMarginalLogLikelihood(likelihood, model)\n",
    "            for _ in range(training_iter):\n",
    "                optimizer.zero_grad()\n",
    "                output = model(D_X_cur)\n",
    "                loss = -mll(output, D_y_cur)\n",
    "                loss.backward()\n",
    "                optimizer.step()\n",
    "            outputscale = model.covar_module.outputscale.item()\n",
    "            lengthscale = model.covar_module.base_kernel.lengthscale.item()\n",
    "            meanconstant = model.mean_module.constant.detach()[0]\n",
    "            \n",
    "            # Build Batch\n",
    "            next_Xs = torch.zeros((2**exp, 3))\n",
    "            next_ys = torch.zeros((2**exp))\n",
    "            D_X_sim = D_X_cur.clone()\n",
    "            D_y_sim = D_y_cur.clone()\n",
    "            for b in range(2**exp):\n",
    "                likelihood_sim = gp.likelihoods.FixedNoiseGaussianLikelihood(noise=torch.ones(D_X_sim.shape[0])*(0.01**2))\n",
    "                k_sim = gp.kernels.ScaleKernel(gp.kernels.MaternKernel(nu=1.5))\n",
    "                k_sim.outputscale = outputscale\n",
    "                k_sim.base_kernel.lengthscale = lengthscale\n",
    "                model_sim = prior(D_X_sim, D_y_sim, likelihood_sim, k_sim)\n",
    "                model_sim.mean_module.constant = torch.nn.parameter.Parameter(meanconstant.clone())\n",
    "\n",
    "                # Find next point to add\n",
    "                model_sim.eval()\n",
    "                likelihood_sim.eval()\n",
    "                with torch.no_grad(), gp.settings.fast_pred_var():\n",
    "                    f_preds = likelihood_sim(model_sim(domain_cur), noise=torch.ones(domain_cur.shape[0]) * (0.01**2))\n",
    "                f_means = f_preds.mean.detach()\n",
    "                f_stds = torch.sqrt(f_preds.variance).detach()\n",
    "                aqs_cur = a_ei(D_fmin_cur, f_means, f_stds)\n",
    "                max_idx = torch.argmax(aqs_cur)\n",
    "                next_X = domain_cur[max_idx]\n",
    "                next_y = f_cur[max_idx]\n",
    "                next_Xs[b] = next_X\n",
    "                next_ys[b] = next_y\n",
    "                domain_cur = torch.cat((domain_cur[:max_idx], domain_cur[max_idx+1:]), dim=0)\n",
    "                f_cur = torch.cat((f_cur[:max_idx], f_cur[max_idx+1:]))\n",
    "\n",
    "                # Simulate Observation\n",
    "                D_X_sim = torch.cat((D_X_sim, next_X.reshape(1, -1)), dim=0)\n",
    "                D_y_sim = torch.cat((D_y_sim, f_means[max_idx].reshape(1)), dim=0)\n",
    "            \n",
    "            # Add Batch to D\n",
    "            D_X_cur = torch.cat((D_X_cur, next_Xs), dim=0)\n",
    "            D_y_cur = torch.cat((D_y_cur, next_ys))\n",
    "            D_fmin_cur = torch.min(D_y_cur)\n",
    "            \n",
    "            # Store gap\n",
    "            if exp == 0:\n",
    "                gaps_single[run, t] = gap(D_fmin_cur, fmin_init, best)\n",
    "            elif exp == 1:\n",
    "                for r in range(2**exp):\n",
    "                    gaps_batch_2[run, t*(2**exp)+r] = gap(D_fmin_cur, fmin_init, best)\n",
    "            elif exp == 2:\n",
    "                for r in range(2**exp):\n",
    "                    gaps_batch_4[run, t*(2**exp)+r] = gap(D_fmin_cur, fmin_init, best)\n",
    "            elif exp == 3:\n",
    "                for r in range(2**exp):\n",
    "                    gaps_batch_8[run, t*(2**exp)+r] = gap(D_fmin_cur, fmin_init, best)\n",
    "\n",
    "        end = time.time()\n",
    "        times[exp, run] = end - start\n",
    "\n",
    "mean_gaps_single = torch.mean(gaps_single, dim=0)\n",
    "mean_gaps_batch_2 = torch.mean(gaps_batch_2, dim=0)\n",
    "mean_gaps_batch_4 = torch.mean(gaps_batch_4, dim=0)\n",
    "mean_gaps_batch_8 = torch.mean(gaps_batch_8, dim=0)\n",
    "\n",
    "times_single = torch.mean(times[0], dim=0)\n",
    "times_batch_2 = torch.mean(times[1], dim=0)\n",
    "times_batch_4 = torch.mean(times[2], dim=0)\n",
    "times_batch_8 = torch.mean(times[3], dim=0)"
   ]
  },
  {
   "cell_type": "code",
   "execution_count": 4,
   "metadata": {},
   "outputs": [
    {
     "data": {
      "text/plain": [
       "[]"
      ]
     },
     "execution_count": 4,
     "metadata": {},
     "output_type": "execute_result"
    },
    {
     "data": {
      "image/png": "[encoded data removed]",
      "text/plain": [
       "<Figure size 432x288 with 1 Axes>"
      ]
     },
     "metadata": {
      "needs_background": "light"
     },
     "output_type": "display_data"
    }
   ],
   "source": [
    "plt.plot(np.arange(0, 33), torch.cat((torch.zeros(1), mean_gaps_single)), label='Single Observation (b=1)', c=\"k\")\n",
    "plt.plot(np.arange(0, 33), torch.cat((torch.zeros(1), mean_gaps_batch_2)), label='Batch Observation (b=2)')\n",
    "plt.plot(np.arange(0, 33), torch.cat((torch.zeros(1), mean_gaps_batch_4)), label='Batch Observation (b=4)')\n",
    "plt.plot(np.arange(0, 33), torch.cat((torch.zeros(1), mean_gaps_batch_8)), label='Batch Observation (b=8)')\n",
    "plt.legend()\n",
    "plt.plot()"
   ]
  },
  {
   "cell_type": "code",
   "execution_count": 5,
   "metadata": {},
   "outputs": [
    {
     "name": "stdout",
     "output_type": "stream",
     "text": [
      "Ttest_indResult(statistic=-1.1077928686996825, pvalue=0.2722304917250237)\n",
      "Ttest_indResult(statistic=1.1851224912885165, pvalue=0.24049176129086164)\n",
      "Ttest_indResult(statistic=-2.15207968611428, pvalue=0.0352926216743026)\n"
     ]
    }
   ],
   "source": [
    "print(ttest_ind(mean_gaps_single, mean_gaps_batch_2))\n",
    "print(ttest_ind(mean_gaps_batch_2, mean_gaps_batch_4))\n",
    "print(ttest_ind(mean_gaps_batch_4, mean_gaps_batch_8))"
   ]
  },
  {
   "cell_type": "code",
   "execution_count": 6,
   "metadata": {},
   "outputs": [
    {
     "name": "stdout",
     "output_type": "stream",
     "text": [
      "tensor(21.2608)\n",
      "tensor(11.1005)\n",
      "tensor(5.9520)\n",
      "tensor(3.5094)\n"
     ]
    }
   ],
   "source": [
    "print(times_single)\n",
    "print(times_batch_2)\n",
    "print(times_batch_4)\n",
    "print(times_batch_8)"
   ]
  }
 ],
 "metadata": {
  "interpreter": {
   "hash": "efaa229ec9633952243236223706f16c3fde9f4309b9797033a770dffaec7f56"
  },
  "kernelspec": {
   "display_name": "Python 3.9.7 64-bit ('cse544t_fl21': conda)",
   "language": "python",
   "name": "python3"
  },
  "language_info": {
   "codemirror_mode": {
    "name": "ipython",
    "version": 3
   },
   "file_extension": ".py",
   "mimetype": "text/x-python",
   "name": "python",
   "nbconvert_exporter": "python",
   "pygments_lexer": "ipython3",
   "version": "3.9.7"
  },
  "orig_nbformat": 4
 },
 "nbformat": 4,
 "nbformat_minor": 2
}
