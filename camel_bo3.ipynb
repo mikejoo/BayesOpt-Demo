{
 "cells": [
  {
   "cell_type": "code",
   "execution_count": 1,
   "metadata": {},
   "outputs": [],
   "source": [
    "import math\n",
    "import numpy as np\n",
    "import torch\n",
    "import gpytorch as gp\n",
    "import botorch as bo\n",
    "from botorch.models.gpytorch import GPyTorchModel\n",
    "import matplotlib.pyplot as plt\n",
    "from scipy.stats import norm, ttest_ind, ttest_rel"
   ]
  },
  {
   "cell_type": "code",
   "execution_count": 2,
   "metadata": {},
   "outputs": [],
   "source": [
    "class prior(gp.models.ExactGP, GPyTorchModel):\n",
    "    def __init__(self, train_inputs, train_targets, likelihood, kernel):\n",
    "        super().__init__(train_inputs, train_targets, likelihood)\n",
    "        self.mean_module = gp.means.ConstantMean()\n",
    "        self.covar_module = kernel\n",
    "    \n",
    "    def forward(self, x):\n",
    "        mean = self.mean_module(x)\n",
    "        covar = self.covar_module(x)\n",
    "        return gp.distributions.MultivariateNormal(mean, covar)\n",
    "        \n",
    "\n",
    "def camel(x1, x2):\n",
    "    ans = (4 - 2.1*x1**2 + x1**4/3)*x1**2\n",
    "    ans += x1*x2\n",
    "    ans += (-4 + 4*x2**2)*x2**2\n",
    "    return ans\n",
    "\n",
    "def a_ei(fmin, mean, std):\n",
    "    ans = (fmin - mean) * norm.cdf((fmin - mean)/std)\n",
    "    ans += std * norm.pdf((fmin - mean)/std)\n",
    "    return ans\n",
    "\n",
    "def gap(best_found, best_init, best):\n",
    "    ans = (best_found - best_init)/(best - best_init)\n",
    "    return ans"
   ]
  },
  {
   "cell_type": "code",
   "execution_count": 3,
   "metadata": {},
   "outputs": [],
   "source": [
    "num = 1000\n",
    "domain1 = torch.linspace(-3, 3, num)\n",
    "domain2 = torch.linspace(-2, 2, num)\n",
    "x1, x2 = torch.meshgrid(domain1, domain2, indexing=\"ij\")\n",
    "domain = torch.stack([x1.reshape(num*num, 1), x2.reshape(num*num, 1)], -1).squeeze(1)\n",
    "f = torch.log(camel(domain[:, 0], domain[:, 1]) + 1.2)\n",
    "\n",
    "a_num = 4\n",
    "num_runs = 20\n",
    "gaps = torch.zeros((4, num_runs, 30))\n",
    "\n",
    "for run in range(num_runs):\n",
    "    D_idx = np.random.choice(num*num, 5, False)\n",
    "    D_X = domain[D_idx]\n",
    "    D_y = f[D_idx]\n",
    "\n",
    "    for idx in D_idx:\n",
    "        domain = torch.cat((domain[:idx], domain[idx+1:]), dim=0)\n",
    "        f = torch.cat((f[:idx], f[idx+1:]))\n",
    "\n",
    "    D_fmin = torch.min(D_y)\n",
    "    fmin_init = torch.min(D_y)\n",
    "    best = math.log(-1.0316+1.2)\n",
    "\n",
    "    for i in range(a_num):\n",
    "        D_X_cur = D_X.clone()\n",
    "        D_y_cur = D_y.clone()\n",
    "        D_fmin_cur = torch.min(D_y_cur)\n",
    "        D_fmax_cur = torch.max(D_y_cur)\n",
    "        domain_cur = domain.clone()\n",
    "        f_cur = f.clone()\n",
    "\n",
    "        budget = 30\n",
    "        for t in range(budget):\n",
    "            # Initialize model\n",
    "            likelihood = gp.likelihoods.FixedNoiseGaussianLikelihood(noise=torch.ones(D_X_cur.shape[0])*(0.01**2))\n",
    "            k = gp.kernels.ScaleKernel(gp.kernels.RBFKernel())\n",
    "            if i == 0:\n",
    "                k.outputscale = 2.2065\n",
    "                k.base_kernel.lengthscale = 0.9387\n",
    "            model = prior(D_X_cur, D_y_cur, likelihood, k)\n",
    "            if i == 0:\n",
    "                model.mean_module.constant = torch.nn.parameter.Parameter(torch.tensor(3.4147))\n",
    "            else:\n",
    "                if i == 1: \n",
    "                    training_iter = 50\n",
    "                elif i == 2:\n",
    "                    training_iter = 500\n",
    "                else:\n",
    "                    training_iter = (t+1)*10\n",
    "                model.train()\n",
    "                optimizer = torch.optim.Adam(model.parameters(), lr=.1)\n",
    "                mll = gp.mlls.ExactMarginalLogLikelihood(likelihood, model)\n",
    "                for _ in range(training_iter):\n",
    "                    optimizer.zero_grad()\n",
    "                    output = model(D_X_cur)\n",
    "                    loss = -mll(output, D_y_cur)\n",
    "                    loss.backward()\n",
    "                    optimizer.step()\n",
    "\n",
    "            # Measure Acquisition Function\n",
    "            model.eval()\n",
    "            likelihood.eval()\n",
    "            with torch.no_grad(), gp.settings.fast_pred_var():\n",
    "                f_preds = likelihood(model(domain_cur), noise=torch.ones(domain_cur.shape[0]) * (0.01**2))\n",
    "            f_means = f_preds.mean.detach()\n",
    "            f_stds = torch.sqrt(f_preds.variance).detach()\n",
    "\n",
    "            aqs_cur = a_ei(D_fmin_cur, f_means, f_stds)\n",
    "            max_idx = torch.argmax(aqs_cur)\n",
    "\n",
    "            next_X = domain_cur[max_idx]\n",
    "            next_y = f_cur[max_idx]\n",
    "            D_X_cur = torch.cat((D_X_cur, next_X.reshape(1, -1)), dim=0)\n",
    "            D_y_cur = torch.cat((D_y_cur, next_y.reshape(1)))\n",
    "            D_fmin_cur = torch.min(D_y_cur)\n",
    "            D_fmax_cur = torch.max(D_y_cur)\n",
    "            domain_cur = torch.cat((domain_cur[:max_idx], domain_cur[max_idx+1:]), dim=0)\n",
    "            f_cur = torch.cat((f_cur[:max_idx], f_cur[max_idx+1:]))\n",
    "\n",
    "            # Store gap\n",
    "            gaps[i, run, t] = gap(D_fmin_cur, fmin_init, best)\n",
    "\n",
    "mean_gaps_fixed = torch.mean(gaps[0], dim=0)\n",
    "mean_gaps_learn = torch.mean(gaps[1], dim=0)\n",
    "mean_gaps_overfit = torch.mean(gaps[2], dim=0)\n",
    "mean_gaps_adapt = torch.mean(gaps[3], dim=0)"
   ]
  },
  {
   "cell_type": "code",
   "execution_count": 4,
   "metadata": {},
   "outputs": [
    {
     "data": {
      "text/plain": [
       "[]"
      ]
     },
     "execution_count": 4,
     "metadata": {},
     "output_type": "execute_result"
    },
    {
     "data": {
      "image/png": "[encoded data removed]",
      "text/plain": [
       "<Figure size 432x288 with 1 Axes>"
      ]
     },
     "metadata": {
      "needs_background": "light"
     },
     "output_type": "display_data"
    }
   ],
   "source": [
    "plt.plot(np.arange(0, 31), torch.cat((torch.zeros(1), mean_gaps_fixed)), label='EI (Fixing)', c=\"k\")\n",
    "plt.plot(np.arange(0, 31), torch.cat((torch.zeros(1), mean_gaps_learn)), label='EI (Loosely Learning)')\n",
    "plt.plot(np.arange(0, 31), torch.cat((torch.zeros(1), mean_gaps_overfit)), label='EI (Overfitting)')\n",
    "plt.plot(np.arange(0, 31), torch.cat((torch.zeros(1), mean_gaps_adapt)), label='EI (Scheduled Learning)')\n",
    "plt.legend()\n",
    "plt.plot()"
   ]
  },
  {
   "cell_type": "code",
   "execution_count": 5,
   "metadata": {},
   "outputs": [
    {
     "name": "stdout",
     "output_type": "stream",
     "text": [
      "Ttest_indResult(statistic=-1.3864466311963437, pvalue=0.1709171506346679)\n",
      "Ttest_indResult(statistic=-1.162537122154712, pvalue=0.2497785202039562)\n",
      "Ttest_indResult(statistic=-1.5876082881846187, pvalue=0.1178121275049718)\n"
     ]
    }
   ],
   "source": [
    "print(ttest_ind(mean_gaps_fixed, mean_gaps_learn))\n",
    "print(ttest_ind(mean_gaps_fixed, mean_gaps_overfit))\n",
    "print(ttest_ind(mean_gaps_fixed, mean_gaps_adapt))"
   ]
  }
 ],
 "metadata": {
  "interpreter": {
   "hash": "efaa229ec9633952243236223706f16c3fde9f4309b9797033a770dffaec7f56"
  },
  "kernelspec": {
   "display_name": "Python 3.9.7 64-bit ('cse544t_fl21': conda)",
   "language": "python",
   "name": "python3"
  },
  "language_info": {
   "codemirror_mode": {
    "name": "ipython",
    "version": 3
   },
   "file_extension": ".py",
   "mimetype": "text/x-python",
   "name": "python",
   "nbconvert_exporter": "python",
   "pygments_lexer": "ipython3",
   "version": "3.9.7"
  },
  "orig_nbformat": 4
 },
 "nbformat": 4,
 "nbformat_minor": 2
}
