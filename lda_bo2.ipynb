{
 "cells": [
  {
   "cell_type": "code",
   "execution_count": 1,
   "metadata": {},
   "outputs": [],
   "source": [
    "import math\n",
    "import numpy as np\n",
    "import pandas as pd\n",
    "import torch\n",
    "import gpytorch as gp\n",
    "import botorch as bo\n",
    "from botorch.models.gpytorch import GPyTorchModel\n",
    "import matplotlib.pyplot as plt\n",
    "from scipy.stats import norm, ttest_ind, ttest_rel"
   ]
  },
  {
   "cell_type": "code",
   "execution_count": 2,
   "metadata": {},
   "outputs": [],
   "source": [
    "class prior(gp.models.ExactGP, GPyTorchModel):\n",
    "    _num_outputs = 1\n",
    "    \n",
    "    def __init__(self, train_inputs, train_targets, likelihood, kernel):\n",
    "        super().__init__(train_inputs, train_targets, likelihood)\n",
    "        self.mean_module = gp.means.ConstantMean()\n",
    "        self.covar_module = kernel\n",
    "    \n",
    "    def forward(self, x):\n",
    "        mean = self.mean_module(x)\n",
    "        covar = self.covar_module(x)\n",
    "        return gp.distributions.MultivariateNormal(mean, covar)\n",
    "        \n",
    "\n",
    "def camel(x1, x2):\n",
    "    ans = (4 - 2.1*x1**2 + x1**4/3)*x1**2\n",
    "    ans += x1*x2\n",
    "    ans += (-4 + 4*x2**2)*x2**2\n",
    "    return ans\n",
    "\n",
    "def a_ei(fmin, mean, std):\n",
    "    ans = (fmin - mean) * norm.cdf((fmin - mean)/std)\n",
    "    ans += std * norm.pdf((fmin - mean)/std)\n",
    "    return ans\n",
    "\n",
    "def a_pi(fmin, mean, std, fmax, e=0.1):\n",
    "    tau = mean - e*(fmax-fmin)\n",
    "    ans = norm.cdf((fmin - tau)/std)\n",
    "    return torch.from_numpy(ans)\n",
    "\n",
    "def a_ucb(mean, std, beta=2):\n",
    "    ans = mean - (beta*std)\n",
    "    return -ans\n",
    "\n",
    "def gap(best_found, best_init, best):\n",
    "    ans = (best_found - best_init)/(best - best_init)\n",
    "    return ans"
   ]
  },
  {
   "cell_type": "code",
   "execution_count": 3,
   "metadata": {},
   "outputs": [],
   "source": [
    "lda = pd.read_csv(\"lda.csv\")\n",
    "best = np.min(np.cbrt(lda[\"value\"].values))\n",
    "\n",
    "a_num = 4\n",
    "num_runs = 20\n",
    "gaps = torch.zeros((4, num_runs, 30))\n",
    "\n",
    "for run in range(num_runs):\n",
    "    D_idx = np.random.choice(range(289), 5, replace=False)\n",
    "    lda_init = lda.iloc[D_idx]\n",
    "    lda_domain = lda.drop(index=D_idx)\n",
    "\n",
    "    domain = torch.tensor(lda_domain[[\"kappa\", \"tau\", \"s\"]].values)\n",
    "    f = torch.pow(torch.tensor(lda_domain[\"value\"].values), 1.0/3)\n",
    "    \n",
    "    D_X = torch.tensor(lda_init[[\"kappa\", \"tau\", \"s\"]].values)\n",
    "    D_y = torch.pow(torch.tensor(lda_init[\"value\"].values), 1.0/3)\n",
    "    D_fmin = torch.min(D_y)\n",
    "    fmin_init = torch.min(D_y)\n",
    "\n",
    "    for i in range(a_num):\n",
    "        D_X_cur = D_X.clone()\n",
    "        D_y_cur = D_y.clone()\n",
    "        D_fmin_cur = torch.min(D_y_cur)\n",
    "        D_fmax_cur = torch.max(D_y_cur)\n",
    "        domain_cur = domain.clone()\n",
    "        f_cur = f.clone()\n",
    "\n",
    "        budget = 30\n",
    "        for t in range(budget):\n",
    "            # Initialize model\n",
    "            likelihood = gp.likelihoods.FixedNoiseGaussianLikelihood(noise=torch.ones(D_X.shape[0])*0.001)\n",
    "            k = gp.kernels.ScaleKernel(gp.kernels.MaternKernel(nu=1.5))\n",
    "            k.outputscale = 4.1435\n",
    "            k.base_kernel.lengthscale = 1.2122\n",
    "            model = prior(D_X, D_y, likelihood, k)\n",
    "            model.mean_module.constant = torch.nn.parameter.Parameter(torch.tensor(12.3929))\n",
    "\n",
    "            # Measure Acquisition Function\n",
    "            model.eval()\n",
    "            likelihood.eval()\n",
    "            with torch.no_grad(), gp.settings.fast_pred_var():\n",
    "                f_preds = likelihood(model(domain_cur), noise=torch.ones(domain_cur.shape[0]) * 0.001)\n",
    "            f_means = f_preds.mean.detach()\n",
    "            f_stds = torch.sqrt(f_preds.variance).detach()\n",
    "\n",
    "            if i == 0:\n",
    "                aqs_cur = a_ei(D_fmin_cur, f_means, f_stds)\n",
    "            elif i == 1:\n",
    "                aqs_cur = torch.zeros(1)\n",
    "            elif i == 2:\n",
    "                aqs_cur = a_pi(D_fmin_cur, f_means, f_stds, D_fmax_cur)\n",
    "            else:\n",
    "                aqs_cur = a_ucb(f_means, f_stds)\n",
    "\n",
    "            # Observe\n",
    "            if i == 1:\n",
    "                max_idx = np.random.choice(domain_cur.shape[0], 1)[0]\n",
    "            else:\n",
    "                max_idx = torch.argmax(aqs_cur)\n",
    "\n",
    "            next_X = domain_cur[max_idx]\n",
    "            next_y = f_cur[max_idx]\n",
    "            D_X_cur = torch.cat((D_X_cur, next_X.reshape(1, -1)), dim=0)\n",
    "            D_y_cur = torch.cat((D_y_cur, next_y.reshape(1)))\n",
    "            D_fmin_cur = torch.min(D_y_cur)\n",
    "            D_fmax_cur = torch.max(D_y_cur)\n",
    "            domain_cur = torch.cat((domain_cur[:max_idx], domain_cur[max_idx+1:]), dim=0)\n",
    "            f_cur = torch.cat((f_cur[:max_idx], f_cur[max_idx+1:]))\n",
    "\n",
    "            # Store gap\n",
    "            gaps[i, run, t] = gap(D_fmin_cur, fmin_init, best)\n",
    "\n",
    "mean_gaps_ei = torch.mean(gaps[0], dim=0)\n",
    "mean_gaps_rand = torch.mean(gaps[1], dim=0)\n",
    "mean_gaps_pi = torch.mean(gaps[2], dim=0)\n",
    "mean_gaps_ucb = torch.mean(gaps[3], dim=0)"
   ]
  },
  {
   "cell_type": "code",
   "execution_count": 4,
   "metadata": {},
   "outputs": [
    {
     "data": {
      "text/plain": [
       "[]"
      ]
     },
     "execution_count": 4,
     "metadata": {},
     "output_type": "execute_result"
    },
    {
     "data": {
      "image/png": "[encoded data removed]",
      "text/plain": [
       "<Figure size 432x288 with 1 Axes>"
      ]
     },
     "metadata": {
      "needs_background": "light"
     },
     "output_type": "display_data"
    }
   ],
   "source": [
    "plt.plot(np.arange(0, 31), torch.cat((torch.zeros(1), mean_gaps_ei)), label='EI')\n",
    "plt.plot(np.arange(0, 31), torch.cat((torch.zeros(1), mean_gaps_pi)), label='PI (e=0.1)')\n",
    "plt.plot(np.arange(0, 31), torch.cat((torch.zeros(1), mean_gaps_ucb)), label='UCB')\n",
    "plt.plot(np.arange(0, 31), torch.cat((torch.zeros(1), mean_gaps_rand)), label='Random Search', c='k')\n",
    "plt.legend()\n",
    "plt.plot()"
   ]
  }
 ],
 "metadata": {
  "interpreter": {
   "hash": "efaa229ec9633952243236223706f16c3fde9f4309b9797033a770dffaec7f56"
  },
  "kernelspec": {
   "display_name": "Python 3.9.7 64-bit ('cse544t_fl21': conda)",
   "language": "python",
   "name": "python3"
  },
  "language_info": {
   "codemirror_mode": {
    "name": "ipython",
    "version": 3
   },
   "file_extension": ".py",
   "mimetype": "text/x-python",
   "name": "python",
   "nbconvert_exporter": "python",
   "pygments_lexer": "ipython3",
   "version": "3.9.7"
  },
  "orig_nbformat": 4
 },
 "nbformat": 4,
 "nbformat_minor": 2
}
