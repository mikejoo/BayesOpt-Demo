{
 "cells": [
  {
   "cell_type": "code",
   "execution_count": 1,
   "metadata": {},
   "outputs": [],
   "source": [
    "import math\n",
    "import numpy as np\n",
    "import pandas as pd\n",
    "import torch\n",
    "import gpytorch as gp\n",
    "from torch.quasirandom import SobolEngine\n",
    "import matplotlib.pyplot as plt\n",
    "import seaborn as sns\n",
    "from sklearn.preprocessing import StandardScaler\n",
    "from scipy.stats import norm, ttest_ind, ttest_rel"
   ]
  },
  {
   "cell_type": "code",
   "execution_count": 2,
   "metadata": {},
   "outputs": [],
   "source": [
    "class prior(gp.models.ExactGP):\n",
    "    def __init__(self, train_inputs, train_targets, likelihood, kernel):\n",
    "        super().__init__(train_inputs, train_targets, likelihood)\n",
    "        self.mean_module = gp.means.ConstantMean()\n",
    "        self.covar_module = kernel\n",
    "    \n",
    "    def forward(self, x):\n",
    "        mean = self.mean_module(x)\n",
    "        covar = self.covar_module(x)\n",
    "        return gp.distributions.MultivariateNormal(mean, covar)\n",
    "\n",
    "def a_ei(fmin, mean, std):\n",
    "    ans = (fmin - mean) * norm.cdf((fmin - mean)/std)\n",
    "    ans += std * norm.pdf((fmin - mean)/std)\n",
    "    return ans\n",
    "\n",
    "def gap(best_found, best_init, best):\n",
    "    ans = (best_found - best_init)/(best - best_init)\n",
    "    return ans"
   ]
  },
  {
   "cell_type": "code",
   "execution_count": 3,
   "metadata": {},
   "outputs": [],
   "source": [
    "svm = pd.read_csv(\"svm.csv\")\n",
    "best = np.min(np.log(svm[\"value\"].values))\n",
    "\n",
    "num_runs = 20\n",
    "gaps = torch.zeros((num_runs, 30))\n",
    "gaps_rand = torch.zeros((num_runs, 150))\n",
    "\n",
    "for run in range(num_runs):\n",
    "    D_idx = np.random.choice(range(1400), 5, replace=False)\n",
    "    svm_init = svm.iloc[D_idx]\n",
    "    svm_domain = svm.drop(index=D_idx)\n",
    "\n",
    "    domain = torch.tensor(svm_domain[[\"C\", \"alpha\", \"epsilon\"]].values)\n",
    "    f = torch.log(torch.tensor(svm_domain[\"value\"].values))\n",
    "    \n",
    "    D_X = torch.tensor(svm_init[[\"C\", \"alpha\", \"epsilon\"]].values)\n",
    "    D_y = torch.log(torch.tensor(svm_init[\"value\"].values))\n",
    "    D_fmin = torch.min(D_y)\n",
    "    fmin_init = torch.min(D_y)\n",
    "\n",
    "    domain_rand = domain.clone()\n",
    "    f_rand = f.clone()\n",
    "    D_X_rand = D_X.clone()\n",
    "    D_y_rand = D_y.clone()\n",
    "    D_fmin_rand = min(D_y_rand)\n",
    "    \n",
    "    budget = 30\n",
    "    for t in range(budget):\n",
    "\n",
    "        # Initialize model\n",
    "        likelihood = gp.likelihoods.FixedNoiseGaussianLikelihood(noise=torch.ones(D_X.shape[0])*(0.01**2))\n",
    "        k = gp.kernels.ScaleKernel(gp.kernels.MaternKernel(nu=1.5))\n",
    "        k.outputscale = 0.0215\n",
    "        k.base_kernel.lengthscale = 1.1278\n",
    "        model = prior(D_X, D_y, likelihood, k)\n",
    "        model.mean_module.constant = torch.nn.parameter.Parameter(torch.tensor(-1.2247))\n",
    "\n",
    "        # Measure EI\n",
    "        model.eval()\n",
    "        likelihood.eval()\n",
    "        with torch.no_grad(), gp.settings.fast_pred_var():\n",
    "            f_preds = likelihood(model(domain), noise=torch.ones(domain.shape[0]) * (0.01**2))\n",
    "        f_means = f_preds.mean.detach().numpy()\n",
    "        f_stds = torch.sqrt(f_preds.variance).detach().numpy()\n",
    "        a_eis = a_ei(D_fmin, f_means, f_stds)\n",
    "\n",
    "        # Find Max EI and Observe\n",
    "        max_idx = torch.argmax(a_eis)\n",
    "        next_X = domain[max_idx]\n",
    "        next_y = f[max_idx]\n",
    "        D_X = torch.cat((D_X, next_X.reshape(1, -1)), dim=0)\n",
    "        D_y = torch.cat((D_y, next_y.reshape(1)))\n",
    "        D_fmin = torch.min(D_y)\n",
    "\n",
    "        # Organize\n",
    "        domain = torch.cat((domain[:max_idx], domain[max_idx+1:]), dim=0)\n",
    "        f = torch.cat((f[:max_idx], f[max_idx+1:]))\n",
    "\n",
    "        # Store gap\n",
    "        gaps[run, t] = gap(D_fmin, fmin_init, best)\n",
    "\n",
    "    budget_rand = 150\n",
    "    for t_rand in range(budget_rand):\n",
    "        next_idx = np.random.choice(domain_rand.shape[0])\n",
    "        next_X = domain_rand[next_idx]\n",
    "        next_y = f_rand[next_idx]\n",
    "        D_X_rand = torch.cat((D_X_rand, next_X.reshape(1, -1)), dim=0)\n",
    "        D_y_rand = torch.cat((D_y_rand, next_y.reshape(1)))\n",
    "        D_fmin_rand = torch.min(D_y_rand)\n",
    "\n",
    "        domain_rand = torch.cat((domain_rand[:next_idx], domain_rand[next_idx+1:]), dim=0)\n",
    "        f_rand = torch.cat((f_rand[:next_idx], f_rand[next_idx+1:]))\n",
    "\n",
    "        gaps_rand[run, t_rand] = gap(D_fmin_rand, fmin_init, best)\n",
    "\n",
    "mean_gaps = torch.mean(gaps, dim=0)\n",
    "mean_gaps_rand = torch.mean(gaps_rand, dim=0)"
   ]
  },
  {
   "cell_type": "code",
   "execution_count": 4,
   "metadata": {},
   "outputs": [
    {
     "data": {
      "text/plain": [
       "[]"
      ]
     },
     "execution_count": 4,
     "metadata": {},
     "output_type": "execute_result"
    },
    {
     "data": {
      "image/png": "[encoded data removed]",
      "text/plain": [
       "<Figure size 432x288 with 1 Axes>"
      ]
     },
     "metadata": {
      "needs_background": "light"
     },
     "output_type": "display_data"
    }
   ],
   "source": [
    "plt.plot(np.arange(0, 31), torch.cat((torch.zeros(1), mean_gaps)), label='EI')\n",
    "plt.plot(np.arange(0, 31), torch.cat((torch.zeros(1), mean_gaps_rand[:30])), label='Random Search (30)')\n",
    "plt.legend()\n",
    "plt.plot()"
   ]
  },
  {
   "cell_type": "code",
   "execution_count": 5,
   "metadata": {},
   "outputs": [
    {
     "name": "stdout",
     "output_type": "stream",
     "text": [
      "Ttest_indResult(statistic=2.843117899500529, pvalue=0.003079455658482812)\n",
      "Ttest_indResult(statistic=-2.4839340935726746, pvalue=0.9920478210105969)\n",
      "Ttest_indResult(statistic=-4.257238770092044, pvalue=0.9999616747360703)\n",
      "Ttest_indResult(statistic=-4.972949161906734, pvalue=0.9999969020074623)\n",
      "Ttest_indResult(statistic=-6.400389205768545, pvalue=0.9999999852230933)\n"
     ]
    }
   ],
   "source": [
    "print(ttest_ind(mean_gaps, mean_gaps_rand[:30], alternative=\"greater\"))\n",
    "print(ttest_ind(mean_gaps, mean_gaps_rand[30:60], alternative=\"greater\"))\n",
    "print(ttest_ind(mean_gaps, mean_gaps_rand[60:90], alternative=\"greater\"))\n",
    "print(ttest_ind(mean_gaps, mean_gaps_rand[90:120], alternative=\"greater\"))\n",
    "print(ttest_ind(mean_gaps, mean_gaps_rand[120:150], alternative=\"greater\"))"
   ]
  }
 ],
 "metadata": {
  "interpreter": {
   "hash": "efaa229ec9633952243236223706f16c3fde9f4309b9797033a770dffaec7f56"
  },
  "kernelspec": {
   "display_name": "Python 3.9.7 64-bit ('cse544t_fl21': conda)",
   "language": "python",
   "name": "python3"
  },
  "language_info": {
   "codemirror_mode": {
    "name": "ipython",
    "version": 3
   },
   "file_extension": ".py",
   "mimetype": "text/x-python",
   "name": "python",
   "nbconvert_exporter": "python",
   "pygments_lexer": "ipython3",
   "version": "3.9.7"
  },
  "orig_nbformat": 4
 },
 "nbformat": 4,
 "nbformat_minor": 2
}
